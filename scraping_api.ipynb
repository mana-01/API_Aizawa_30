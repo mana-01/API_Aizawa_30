{
  "nbformat": 4,
  "nbformat_minor": 0,
  "metadata": {
    "colab": {
      "name": "scraping_api.ipynb",
      "provenance": [],
      "collapsed_sections": [],
      "authorship_tag": "ABX9TyORYtb2w/lvyE2TayNZivt7",
      "include_colab_link": true
    },
    "kernelspec": {
      "name": "python3",
      "display_name": "Python 3"
    },
    "language_info": {
      "name": "python"
    }
  },
  "cells": [
    {
      "cell_type": "markdown",
      "metadata": {
        "id": "view-in-github",
        "colab_type": "text"
      },
      "source": [
        "<a href=\"https://colab.research.google.com/github/mana-01/API_Aizawa_30/blob/main/scraping_api.ipynb\" target=\"_parent\"><img src=\"https://colab.research.google.com/assets/colab-badge.svg\" alt=\"Open In Colab\"/></a>"
      ]
    },
    {
      "cell_type": "code",
      "execution_count": 1,
      "metadata": {
        "colab": {
          "base_uri": "https://localhost:8080/"
        },
        "id": "Ph4YAulXaMjo",
        "outputId": "d333427c-e9af-49d8-d461-2e4b2120b637"
      },
      "outputs": [
        {
          "output_type": "stream",
          "name": "stdout",
          "text": [
            "Requirement already satisfied: gspread in /usr/local/lib/python3.7/dist-packages (3.0.1)\n",
            "Requirement already satisfied: requests>=2.2.1 in /usr/local/lib/python3.7/dist-packages (from gspread) (2.23.0)\n",
            "Requirement already satisfied: certifi>=2017.4.17 in /usr/local/lib/python3.7/dist-packages (from requests>=2.2.1->gspread) (2021.10.8)\n",
            "Requirement already satisfied: chardet<4,>=3.0.2 in /usr/local/lib/python3.7/dist-packages (from requests>=2.2.1->gspread) (3.0.4)\n",
            "Requirement already satisfied: urllib3!=1.25.0,!=1.25.1,<1.26,>=1.21.1 in /usr/local/lib/python3.7/dist-packages (from requests>=2.2.1->gspread) (1.24.3)\n",
            "Requirement already satisfied: idna<3,>=2.5 in /usr/local/lib/python3.7/dist-packages (from requests>=2.2.1->gspread) (2.10)\n"
          ]
        }
      ],
      "source": [
        "pip install gspread"
      ]
    },
    {
      "cell_type": "code",
      "source": [
        "from google.colab import auth\n",
        "from oauth2client.client import GoogleCredentials\n",
        "import gspread\n",
        "\n",
        "auth.authenticate_user()\n",
        "gc = gspread.authorize(GoogleCredentials.get_application_default())"
      ],
      "metadata": {
        "id": "yMSGQZrNaxDB"
      },
      "execution_count": 69,
      "outputs": []
    },
    {
      "cell_type": "code",
      "source": [
        "from bs4 import BeautifulSoup\n",
        "import requests\n",
        "import lxml\n",
        "import html\n",
        "\n",
        "workbook_url = \"https://docs.google.com/spreadsheets/d/1ipDTfOO_sha3yGlZ-aDihw7rurqF0tG-LrFoiyi1b6U/edit#gid=0\"\n",
        "workbook = gc.open_by_url(workbook_url)\n",
        "\n",
        "main_url= \"https://store.enterthee.jp/\"\n",
        "\n",
        "fetch_url = \"https://store.enterthee.jp/collections/ladies\"\n",
        "\n",
        "headers = {\"User-Agent\":\"Mozilla/5.0 (Macintosh; Intel Mac OS X 10_15_7) AppleWebKit/537.36 (KHTML, like Gecko) Chrome/96.0.4664.110 Safari/537.36\"}\n",
        "\n",
        "r = requests.get(fetch_url, headers=headers)\n",
        "\n",
        "soup = BeautifulSoup(r.text, 'lxml')\n",
        "\n",
        "title_text = soup.find(\"title\").get_text()\n",
        "worksheet = workbook.add_worksheet(title=title_text, rows=100, cols=4)\n",
        "worksheet.append_row([\"ID\", \"商品名\", \"値段\", \"詳細URL\"])\n",
        "\n",
        "item_list = soup.find_all(\"li\", class_='ItemGrid__ItemGridCell-sc-14pfel3-1 iYYoci')\n",
        "\n",
        "for i, item in enumerate(item_list):\n",
        "  item_title = item.find(\"a\").get_text()\n",
        "  item_price = item.find(\"span\", class_=\"money\").get_text()\n",
        "  item_url = main_url + (\"a\")[\"href\"]\n",
        "  worksheet.append_row([i, item_title, item_price, item_url])\n",
        "  print([item_title, item_price, item_url])"
      ],
      "metadata": {
        "id": "tU8muM8pcKQp"
      },
      "execution_count": 81,
      "outputs": []
    },
    {
      "cell_type": "code",
      "source": [
        ""
      ],
      "metadata": {
        "id": "GqyAcYf9cZIt"
      },
      "execution_count": null,
      "outputs": []
    }
  ]
}